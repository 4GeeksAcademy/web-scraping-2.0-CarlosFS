{
    "cells": [
        {
            "cell_type": "markdown",
            "metadata": {},
            "source": [
                "# Explore here\n",
                "\n",
                "It's recommended to use this notebook for exploration purposes."
            ]
        },
        {
            "cell_type": "code",
            "execution_count": 1,
            "metadata": {},
            "outputs": [],
            "source": [
                "import os\n",
                "from bs4 import BeautifulSoup\n",
                "import requests\n",
                "import time\n",
                "import sqlite3\n",
                "import matplotlib.pyplot as plt\n",
                "import seaborn as sns\n",
                "\n"
            ]
        },
        {
            "cell_type": "code",
            "execution_count": 2,
            "metadata": {},
            "outputs": [],
            "source": [
                "url = \"https://companies-market-cap-copy.vercel.app/index.html\"\n",
                "\n",
                "response = requests.get(url)"
            ]
        },
        {
            "cell_type": "code",
            "execution_count": 3,
            "metadata": {},
            "outputs": [],
            "source": [
                "soup = BeautifulSoup(response.text, 'html.parser')"
            ]
        },
        {
            "cell_type": "code",
            "execution_count": 5,
            "metadata": {},
            "outputs": [],
            "source": [
                "table =  soup.find_all('table', {'class': 'table'}) #acceso a la tabla\n",
                "rows = soup.find_all('tr')[1:] #coger cada fila expecto la del nombre de las columnas\n",
                "\n",
                "years = []\n",
                "revenues = []\n",
                "changes = []\n",
                "\n",
                "for row in rows:\n",
                "    cells = row.find_all('td')\n",
                "\n",
                "    if len(cells) == 3:\n",
                "        year = cells[0].text.strip()\n",
                "        revenue = cells[1].text.strip()\n",
                "        change = cells[2].text.strip()\n",
                "\n",
                "        years.append(year)\n",
                "        revenues.append(revenue)\n",
                "        changes.append(change)"
            ]
        },
        {
            "cell_type": "code",
            "execution_count": 9,
            "metadata": {},
            "outputs": [
                {
                    "data": {
                        "text/html": [
                            "<div>\n",
                            "<style scoped>\n",
                            "    .dataframe tbody tr th:only-of-type {\n",
                            "        vertical-align: middle;\n",
                            "    }\n",
                            "\n",
                            "    .dataframe tbody tr th {\n",
                            "        vertical-align: top;\n",
                            "    }\n",
                            "\n",
                            "    .dataframe thead th {\n",
                            "        text-align: right;\n",
                            "    }\n",
                            "</style>\n",
                            "<table border=\"1\" class=\"dataframe\">\n",
                            "  <thead>\n",
                            "    <tr style=\"text-align: right;\">\n",
                            "      <th></th>\n",
                            "      <th>Year</th>\n",
                            "      <th>Revenue</th>\n",
                            "      <th>Change</th>\n",
                            "    </tr>\n",
                            "  </thead>\n",
                            "  <tbody>\n",
                            "    <tr>\n",
                            "      <th>0</th>\n",
                            "      <td>2024</td>\n",
                            "      <td>$97.15 B</td>\n",
                            "      <td>0.39%</td>\n",
                            "    </tr>\n",
                            "    <tr>\n",
                            "      <th>1</th>\n",
                            "      <td>2023</td>\n",
                            "      <td>$96.77 B</td>\n",
                            "      <td>18.8%</td>\n",
                            "    </tr>\n",
                            "    <tr>\n",
                            "      <th>2</th>\n",
                            "      <td>2022</td>\n",
                            "      <td>$81.46 B</td>\n",
                            "      <td>51.35%</td>\n",
                            "    </tr>\n",
                            "    <tr>\n",
                            "      <th>3</th>\n",
                            "      <td>2021</td>\n",
                            "      <td>$53.82 B</td>\n",
                            "      <td>70.67%</td>\n",
                            "    </tr>\n",
                            "    <tr>\n",
                            "      <th>4</th>\n",
                            "      <td>2020</td>\n",
                            "      <td>$31.53 B</td>\n",
                            "      <td>28.31%</td>\n",
                            "    </tr>\n",
                            "    <tr>\n",
                            "      <th>5</th>\n",
                            "      <td>2019</td>\n",
                            "      <td>$24.57 B</td>\n",
                            "      <td>14.52%</td>\n",
                            "    </tr>\n",
                            "    <tr>\n",
                            "      <th>6</th>\n",
                            "      <td>2018</td>\n",
                            "      <td>$21.46 B</td>\n",
                            "      <td>82.51%</td>\n",
                            "    </tr>\n",
                            "    <tr>\n",
                            "      <th>7</th>\n",
                            "      <td>2017</td>\n",
                            "      <td>$11.75 B</td>\n",
                            "      <td>67.98%</td>\n",
                            "    </tr>\n",
                            "    <tr>\n",
                            "      <th>8</th>\n",
                            "      <td>2016</td>\n",
                            "      <td>$7.00 B</td>\n",
                            "      <td>73.01%</td>\n",
                            "    </tr>\n",
                            "    <tr>\n",
                            "      <th>9</th>\n",
                            "      <td>2015</td>\n",
                            "      <td>$4.04 B</td>\n",
                            "      <td>26.5%</td>\n",
                            "    </tr>\n",
                            "    <tr>\n",
                            "      <th>10</th>\n",
                            "      <td>2014</td>\n",
                            "      <td>$3.19 B</td>\n",
                            "      <td>58.85%</td>\n",
                            "    </tr>\n",
                            "    <tr>\n",
                            "      <th>11</th>\n",
                            "      <td>2013</td>\n",
                            "      <td>$2.01 B</td>\n",
                            "      <td>387.23%</td>\n",
                            "    </tr>\n",
                            "    <tr>\n",
                            "      <th>12</th>\n",
                            "      <td>2012</td>\n",
                            "      <td>$0.41 B</td>\n",
                            "      <td>102.34%</td>\n",
                            "    </tr>\n",
                            "    <tr>\n",
                            "      <th>13</th>\n",
                            "      <td>2011</td>\n",
                            "      <td>$0.20 B</td>\n",
                            "      <td>74.95%</td>\n",
                            "    </tr>\n",
                            "    <tr>\n",
                            "      <th>14</th>\n",
                            "      <td>2010</td>\n",
                            "      <td>$0.11 B</td>\n",
                            "      <td>4.29%</td>\n",
                            "    </tr>\n",
                            "    <tr>\n",
                            "      <th>15</th>\n",
                            "      <td>2009</td>\n",
                            "      <td>$0.11 B</td>\n",
                            "      <td></td>\n",
                            "    </tr>\n",
                            "  </tbody>\n",
                            "</table>\n",
                            "</div>"
                        ],
                        "text/plain": [
                            "    Year   Revenue   Change\n",
                            "0   2024  $97.15 B    0.39%\n",
                            "1   2023  $96.77 B    18.8%\n",
                            "2   2022  $81.46 B   51.35%\n",
                            "3   2021  $53.82 B   70.67%\n",
                            "4   2020  $31.53 B   28.31%\n",
                            "5   2019  $24.57 B   14.52%\n",
                            "6   2018  $21.46 B   82.51%\n",
                            "7   2017  $11.75 B   67.98%\n",
                            "8   2016   $7.00 B   73.01%\n",
                            "9   2015   $4.04 B    26.5%\n",
                            "10  2014   $3.19 B   58.85%\n",
                            "11  2013   $2.01 B  387.23%\n",
                            "12  2012   $0.41 B  102.34%\n",
                            "13  2011   $0.20 B   74.95%\n",
                            "14  2010   $0.11 B    4.29%\n",
                            "15  2009   $0.11 B         "
                        ]
                    },
                    "execution_count": 9,
                    "metadata": {},
                    "output_type": "execute_result"
                }
            ],
            "source": [
                "import pandas as pd\n",
                "\n",
                "df = pd.DataFrame(list(zip(years, revenues, changes)), columns=['Year', 'Revenue', 'Change'])\n",
                "df"
            ]
        },
        {
            "cell_type": "markdown",
            "metadata": {},
            "source": [
                "Vamos a limpiar un poco los datos de los ingresos para representarlos mejor"
            ]
        },
        {
            "cell_type": "code",
            "execution_count": 12,
            "metadata": {},
            "outputs": [
                {
                    "data": {
                        "text/plain": [
                            "0     97.15\n",
                            "1     96.77\n",
                            "2     81.46\n",
                            "3     53.82\n",
                            "4     31.53\n",
                            "5     24.57\n",
                            "6     21.46\n",
                            "7     11.75\n",
                            "8      7.00\n",
                            "9      4.04\n",
                            "10     3.19\n",
                            "11     2.01\n",
                            "12     0.41\n",
                            "13     0.20\n",
                            "14     0.11\n",
                            "15     0.11\n",
                            "Name: Revenue, dtype: float64"
                        ]
                    },
                    "execution_count": 12,
                    "metadata": {},
                    "output_type": "execute_result"
                }
            ],
            "source": [
                "def convertir_ingresos(valor):\n",
                "    if \"B\" in valor:\n",
                "        editar_valor = float(valor.replace(\"B\", \"\").replace(\"$\", \"\").replace(\",\", \"\"))\n",
                "        return editar_valor\n",
                "\n",
                "\n",
                "df[\"Revenue\"] = df[\"Revenue\"].apply(convertir_ingresos)\n",
                "\n",
                "df[\"Revenue\"]"
            ]
        },
        {
            "cell_type": "code",
            "execution_count": 13,
            "metadata": {},
            "outputs": [
                {
                    "data": {
                        "image/png": "[encoded data removed]",
                        "text/plain": [
                            "<Figure size 1000x600 with 1 Axes>"
                        ]
                    },
                    "metadata": {},
                    "output_type": "display_data"
                }
            ],
            "source": [
                "# Graficar los datos\n",
                "plt.figure(figsize=(10, 6))\n",
                "plt.plot(df[\"Year\"], df[\"Revenue\"], marker='o', label=\"Revenue\")\n",
                "plt.title(\"Ingresos anuales de Tesla\")\n",
                "plt.xlabel(\"Year\")\n",
                "plt.ylabel(\"Ingresos en billones(USD)\")\n",
                "plt.xticks(rotation=45)\n",
                "plt.legend()\n",
                "plt.grid(True)\n",
                "\n",
                "# Guardar y mostrar el gráfico\n",
                "plt.savefig(\"revenue_plot.png\")\n",
                "plt.show()"
            ]
        },
        {
            "cell_type": "markdown",
            "metadata": {},
            "source": [
                "Si hubiesemos invertido en Tesla hace diez años habríamos multiplicado nuestro dinero casi 100 veces"
            ]
        }
    ],
    "metadata": {
        "kernelspec": {
            "display_name": "Python 3",
            "language": "python",
            "name": "python3"
        },
        "language_info": {
            "codemirror_mode": {
                "name": "ipython",
                "version": 3
            },
            "file_extension": ".py",
            "mimetype": "text/x-python",
            "name": "python",
            "nbconvert_exporter": "python",
            "pygments_lexer": "ipython3",
            "version": "3.11.4"
        },
        "orig_nbformat": 4
    },
    "nbformat": 4,
    "nbformat_minor": 2
}
